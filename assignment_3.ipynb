{
 "cells": [
  {
   "cell_type": "code",
   "execution_count": 6,
   "metadata": {},
   "outputs": [
    {
     "name": "stdout",
     "output_type": "stream",
     "text": [
      "False\n",
      "None\n"
     ]
    }
   ],
   "source": [
    "# 1.Write a Python function called is_palindrome that takes a string s as input and returns True if s is a palindrome \n",
    "# (reads the same forwards and backwards), otherwise returns False\n",
    "\n",
    "def is_pallindrome(s):\n",
    "    rev=s[::-1]\n",
    "    if s==rev:\n",
    "        print(\"True\")\n",
    "    else:\n",
    "        print(\"False\")\n",
    "a=\"karan\"\n",
    "print(is_pallindrome(a))"
   ]
  },
  {
   "cell_type": "code",
   "execution_count": 32,
   "metadata": {},
   "outputs": [
    {
     "name": "stdout",
     "output_type": "stream",
     "text": [
      "what operation you have to perform\n",
      "1 addition\n",
      "2 subtraction\n",
      "3 multiplication\n",
      "4 division\n",
      "2430\n"
     ]
    }
   ],
   "source": [
    "# 2.Write a Python function called calculator that takes three arguments: num1 (float), num2 (float), and \n",
    "# operation (string). The function should perform the specified operation ('add', 'subtract', 'multiply', 'divide') \n",
    "# on num1 and num2 and return the result\n",
    "\n",
    "num1=45\n",
    "num2=54\n",
    "print(\"what operation you have to perform\")\n",
    "print(\"1 addition\")\n",
    "print(\"2 subtraction\")\n",
    "print(\"3 multiplication\")\n",
    "print(\"4 division\")\n",
    "opt=int(input(\"enter your option(1,2,3,4)\"))\n",
    "if opt==1:\n",
    "    print(num1+num2)\n",
    "elif opt==2:\n",
    "    print(num1-num2)\n",
    "elif opt==3:\n",
    "    print(num1*num2)\n",
    "elif opt==4:\n",
    "    print(num1/num2)\n",
    "else:\n",
    "    print(\"please enter valid option\")"
   ]
  },
  {
   "cell_type": "code",
   "execution_count": 34,
   "metadata": {},
   "outputs": [
    {
     "name": "stdout",
     "output_type": "stream",
     "text": [
      "u -> 1\n",
      "p -> 2\n",
      "l -> 2\n",
      "f -> 1\n",
      "a -> 1\n",
      "i -> 1\n",
      "r -> 1\n",
      "s -> 1\n",
      "v -> 1\n",
      "t -> 2\n",
      "d -> 1\n"
     ]
    }
   ],
   "source": [
    "# 3.Write a python function called wordCounter that takes a string “S” as an input, and return the\n",
    "# count of each character in word or in “S”\n",
    "# e.g pass S = “uplfairs pvt ltd”\n",
    "# u -> 1\n",
    "# p -> 2\n",
    "# l ->  2\n",
    "# and so on .\n",
    "def wordCounter(S):\n",
    "    \n",
    "    S = S.replace(\" \", \"\")\n",
    "    \n",
    "    \n",
    "    char_count = {}\n",
    "    \n",
    "    \n",
    "    for char in S:\n",
    "        if char in char_count:\n",
    "            char_count[char] += 1\n",
    "        else:\n",
    "            char_count[char] = 1\n",
    "    \n",
    "    \n",
    "    for char, count in char_count.items():\n",
    "        print(f\"{char} -> {count}\")\n",
    "\n",
    "\n",
    "S = \"uplfairs pvt ltd\"\n",
    "wordCounter(S)"
   ]
  },
  {
   "cell_type": "code",
   "execution_count": 35,
   "metadata": {},
   "outputs": [
    {
     "name": "stdout",
     "output_type": "stream",
     "text": [
      "* \n",
      "* * \n",
      "* * * \n",
      "* * * * \n",
      "* * * * * \n"
     ]
    }
   ],
   "source": [
    "# question  4\n",
    "def right_triangle_pattern(n):\n",
    "    for i in range(1, n + 1):\n",
    "        print('* ' * i)\n",
    "\n",
    "\n",
    "n = 5\n",
    "right_triangle_pattern(n)"
   ]
  },
  {
   "cell_type": "code",
   "execution_count": 39,
   "metadata": {},
   "outputs": [
    {
     "name": "stdout",
     "output_type": "stream",
     "text": [
      "5 * 1 = 5\n",
      "5 * 2 = 10\n",
      "5 * 3 = 15\n",
      "5 * 4 = 20\n",
      "5 * 5 = 25\n",
      "5 * 6 = 30\n",
      "5 * 7 = 35\n",
      "5 * 8 = 40\n",
      "5 * 9 = 45\n",
      "5 * 10 = 50\n"
     ]
    }
   ],
   "source": [
    "# 5.Write a Python function called multiplication_table that takes an integer n as input and prints the multiplication\n",
    "#  table of n up to 10.\n",
    "def multiplication_table(n):\n",
    "    for i in range(1, 11):\n",
    "        print(n,\"*\",i,\"=\", n*i)\n",
    "\n",
    "\n",
    "n = 5\n",
    "multiplication_table(n)"
   ]
  }
 ],
 "metadata": {
  "kernelspec": {
   "display_name": "Python 3",
   "language": "python",
   "name": "python3"
  },
  "language_info": {
   "codemirror_mode": {
    "name": "ipython",
    "version": 3
   },
   "file_extension": ".py",
   "mimetype": "text/x-python",
   "name": "python",
   "nbconvert_exporter": "python",
   "pygments_lexer": "ipython3",
   "version": "3.12.3"
  }
 },
 "nbformat": 4,
 "nbformat_minor": 2
}
